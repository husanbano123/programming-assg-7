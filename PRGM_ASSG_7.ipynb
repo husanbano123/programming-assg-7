{
 "cells": [
  {
   "cell_type": "code",
   "execution_count": 1,
   "id": "875a7972",
   "metadata": {},
   "outputs": [
    {
     "name": "stdout",
     "output_type": "stream",
     "text": [
      "Object `array` not found.\n",
      "Object `array` not found.\n",
      "Object `rotation` not found.\n",
      "Object `end` not found.\n",
      "Object `Monotonic` not found.\n"
     ]
    }
   ],
   "source": [
    "1.\tWrite a Python Program to find sum of array?\n",
    "2.\tWrite a Python Program to find largest element in an array?\n",
    "3.\tWrite a Python Program for array rotation?\n",
    "4.\tWrite a Python Program to Split the array and add the first part to the end?\n",
    "5.\tWrite a Python Program to check if given array is Monotonic?#increaisng or decreasing\n"
   ]
  },
  {
   "cell_type": "code",
   "execution_count": 2,
   "id": "4579f636",
   "metadata": {},
   "outputs": [
    {
     "name": "stdout",
     "output_type": "stream",
     "text": [
      "sum of array is 51\n"
     ]
    }
   ],
   "source": [
    "#sum of array\n",
    "\n",
    "arr=[1,2,3,45]\n",
    "result=sum(arr)\n",
    "print(\"sum of array is\",result)"
   ]
  },
  {
   "cell_type": "code",
   "execution_count": 6,
   "id": "9cfc7352",
   "metadata": {},
   "outputs": [
    {
     "name": "stdout",
     "output_type": "stream",
     "text": [
      "115\n"
     ]
    }
   ],
   "source": [
    "#largest element in an array\n",
    "\n",
    "arr=[6,8,45,67,90,87,115,76]\n",
    "#n=len(arr)\n",
    "maxx=arr[0]\n",
    "for i in arr:\n",
    "    if i>maxx:\n",
    "        maxx=i\n",
    "print(maxx)\n",
    "    \n",
    "    "
   ]
  },
  {
   "cell_type": "code",
   "execution_count": 4,
   "id": "bc380ed8",
   "metadata": {},
   "outputs": [
    {
     "name": "stdout",
     "output_type": "stream",
     "text": [
      "rotate list is:\n",
      "[2, 3, 4, 6, 7, 8, 9, 1]\n"
     ]
    }
   ],
   "source": [
    "#array roration\n",
    "def array_rotation(a,d):\n",
    "    n=len(a)\n",
    "    a[:]=a[d:n]+a[0:d]\n",
    "    return a\n",
    "\n",
    "a=[ 1,2,3,4,6,7,8,9]\n",
    "print(\"rotate list is:\")\n",
    "print(array_rotation(a,1))"
   ]
  },
  {
   "cell_type": "code",
   "execution_count": 10,
   "id": "1a65f139",
   "metadata": {},
   "outputs": [
    {
     "name": "stdout",
     "output_type": "stream",
     "text": [
      "o/p of array is [7, 8, 9, 10, 11, 1, 2, 3, 45, 6]\n"
     ]
    }
   ],
   "source": [
    "#Split the array and add the first part to the end\n",
    "def splitarray(arr,k):\n",
    "    a=arr[k:]+arr[:k]\n",
    "    return a\n",
    "\n",
    "k=5\n",
    "arr=[1,2,3,45,6,7,8,9,10,11]\n",
    "print(\"o/p of array is\",splitarray(arr,k))\n",
    "    \n",
    "    \n"
   ]
  },
  {
   "cell_type": "code",
   "execution_count": 29,
   "id": "3364e3d5",
   "metadata": {},
   "outputs": [
    {
     "name": "stdout",
     "output_type": "stream",
     "text": [
      "the monotanic arr is True/False: True\n"
     ]
    }
   ],
   "source": [
    "def monotanic(A):\n",
    "    return(all(A[i]<=A[i+1] for i in range(len(A)-1)) or all( A[i]>=A[i+1] for i in range(len(A)-1)))\n",
    "    \n",
    "    \n",
    "s=[6,5,4,4]\n",
    "print(\"the monotanic arr is True/False:\",monotanic(s))\n",
    "            \n",
    "    "
   ]
  },
  {
   "cell_type": "code",
   "execution_count": null,
   "id": "a9a4a08d",
   "metadata": {},
   "outputs": [],
   "source": []
  }
 ],
 "metadata": {
  "kernelspec": {
   "display_name": "Python 3 (ipykernel)",
   "language": "python",
   "name": "python3"
  },
  "language_info": {
   "codemirror_mode": {
    "name": "ipython",
    "version": 3
   },
   "file_extension": ".py",
   "mimetype": "text/x-python",
   "name": "python",
   "nbconvert_exporter": "python",
   "pygments_lexer": "ipython3",
   "version": "3.9.7"
  }
 },
 "nbformat": 4,
 "nbformat_minor": 5
}
